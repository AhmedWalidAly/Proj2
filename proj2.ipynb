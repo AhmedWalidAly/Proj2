{
 "cells": [
  {
   "cell_type": "code",
   "execution_count": 15,
   "id": "34a159bf",
   "metadata": {},
   "outputs": [
    {
     "name": "stdout",
     "output_type": "stream",
     "text": [
      "2\n",
      "3\n",
      "6\n"
     ]
    },
    {
     "data": {
      "text/plain": [
       "36"
      ]
     },
     "execution_count": 15,
     "metadata": {},
     "output_type": "execute_result"
    }
   ],
   "source": [
    "\n",
    "result=1\n",
    "for x in list1:\n",
    "    result = result * x\n",
    "result\n",
    "   # list1=[2,3,6]\n",
    "    #return result"
   ]
  },
  {
   "cell_type": "code",
   "execution_count": 27,
   "id": "6f2e7ad2",
   "metadata": {},
   "outputs": [
    {
     "name": "stdout",
     "output_type": "stream",
     "text": [
      "[(1, 2), (2, 1), (2, 3), (2, 5), (4, 4)]\n"
     ]
    }
   ],
   "source": [
    "def last(n):\n",
    "    return n[-1] \n",
    "\n",
    "a= [(2, 5), (1, 2), (4, 4), (2, 3), (2, 1)]\n",
    "sorted(list, key=last)\n",
    "print(sorted(a))\n"
   ]
  },
  {
   "cell_type": "code",
   "execution_count": 53,
   "id": "d18d5879",
   "metadata": {},
   "outputs": [
    {
     "name": "stdout",
     "output_type": "stream",
     "text": [
      "{'a': 400, 'b': 400, 'c': 300, 'd': 400}\n"
     ]
    }
   ],
   "source": [
    "d1 = {'a': 100, 'b': 200, 'c':300}\n",
    "\n",
    "d2 = {'a': 300, 'b': 200, 'd':400}\n",
    "d3={}\n",
    "for key in d1:\n",
    "   \n",
    "    if key in d2:\n",
    "        d3[key] = d2[key] + d1[key]\n",
    "       \n",
    "    else:\n",
    "        d3[key]=d1[key]\n",
    "for key in d2:\n",
    "    \n",
    "    if key in d1:\n",
    "        d3[key] = d1[key] + d2[key]\n",
    "      \n",
    "    else:\n",
    "        d3[key]=d2[key]\n",
    "        \n",
    "        \n",
    "print (d3)"
   ]
  },
  {
   "cell_type": "code",
   "execution_count": 2,
   "id": "fe3d8768",
   "metadata": {},
   "outputs": [
    {
     "name": "stdout",
     "output_type": "stream",
     "text": [
      "Type a number: 8\n",
      "{1: 1}\n",
      "{1: 1, 2: 4}\n",
      "{1: 1, 2: 4, 3: 9}\n",
      "{1: 1, 2: 4, 3: 9, 4: 16}\n",
      "{1: 1, 2: 4, 3: 9, 4: 16, 5: 25}\n",
      "{1: 1, 2: 4, 3: 9, 4: 16, 5: 25, 6: 36}\n",
      "{1: 1, 2: 4, 3: 9, 4: 16, 5: 25, 6: 36, 7: 49}\n",
      "{1: 1, 2: 4, 3: 9, 4: 16, 5: 25, 6: 36, 7: 49, 8: 64}\n"
     ]
    }
   ],
   "source": [
    "num = int(input(\"Type a number: \"))\n",
    "\n",
    "numDict = {}\n",
    "for i in range(1, num+1):\n",
    "    numDict[i] = i*i\n",
    "    print(numDict)\n"
   ]
  },
  {
   "cell_type": "code",
   "execution_count": 5,
   "id": "c0d7a803",
   "metadata": {},
   "outputs": [
    {
     "name": "stdout",
     "output_type": "stream",
     "text": [
      "[('item3', '24.5'), ('item2', '15.10'), ('item1', '12.20')]\n"
     ]
    }
   ],
   "source": [
    "\n",
    "my_list =[('item1', '12.20'), ('item2', '15.10'), ('item3', '24.5')]\n",
    "\n",
    "my_list.sort(key=lambda x: x[1], reverse=True)\n",
    "print(my_list)\n"
   ]
  },
  {
   "cell_type": "code",
   "execution_count": null,
   "id": "f0592739",
   "metadata": {},
   "outputs": [],
   "source": []
  }
 ],
 "metadata": {
  "kernelspec": {
   "display_name": "Python 3 (ipykernel)",
   "language": "python",
   "name": "python3"
  },
  "language_info": {
   "codemirror_mode": {
    "name": "ipython",
    "version": 3
   },
   "file_extension": ".py",
   "mimetype": "text/x-python",
   "name": "python",
   "nbconvert_exporter": "python",
   "pygments_lexer": "ipython3",
   "version": "3.9.13"
  }
 },
 "nbformat": 4,
 "nbformat_minor": 5
}
